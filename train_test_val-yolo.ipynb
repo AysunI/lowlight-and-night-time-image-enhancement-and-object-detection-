{
 "cells": [
  {
   "cell_type": "code",
   "execution_count": 1,
   "id": "cc07452e-1f71-44a6-a053-bb62fba1f9cc",
   "metadata": {},
   "outputs": [],
   "source": [
    "import os\n",
    "import shutil"
   ]
  },
  {
   "cell_type": "code",
   "execution_count": 9,
   "id": "959a2e7e-87fa-4358-a624-5389bd21dae1",
   "metadata": {},
   "outputs": [
    {
     "name": "stdout",
     "output_type": "stream",
     "text": [
      "Done!!!\n"
     ]
    }
   ],
   "source": [
    "import os\n",
    "import shutil\n",
    "\n",
    "data_path = \"../Exdark/ExDark\"\n",
    "imageclass = \"../imageclasslist.txt\"\n",
    "label_path = \"../Exdark/yolov8_format\"\n",
    "output_base = \"../Exdark/DATA_original\"\n",
    "\n",
    "split_map = {\"1\":\"train\", \"2\":\"val\", \"3\":\"test\"}\n",
    "# Create folders according to split\n",
    "for split in split_map.values():\n",
    "    os.makedirs(os.path.join(output_base, split, \"images\"), exist_ok=True)\n",
    "    os.makedirs(os.path.join(output_base,split,\"labels\"), exist_ok=True)\n",
    "# Reading label txt line by line\n",
    "with open(imageclass, 'r') as f:\n",
    "    lines = f.readlines()[1:]\n",
    "for line in lines:\n",
    "    parts = line.strip().split()\n",
    "    if len(parts) !=5:\n",
    "        continue\n",
    "    filename,_,_,_,split_type = parts\n",
    "    split_name = split_map.get(split_type)\n",
    "    \n",
    "    if not split_name:\n",
    "        print(f\"unknown split type {split_type} for {filename}\")\n",
    "# search images in category folders  \n",
    "    found = False\n",
    "    for category in os.listdir(data_path):\n",
    "        category_path = os.path.join(data_path, category)\n",
    "        if not os.path.isdir(category_path):\n",
    "            continue\n",
    "            \n",
    "        src_img_path = os.path.join(category_path, filename)\n",
    "        if os.path.exists(src_img_path):\n",
    "            #Copy images\n",
    "            dst_img_path = os.path.join(output_base, split_name, \"images\", filename)\n",
    "            shutil.copy2(src_img_path, dst_img_path)\n",
    "            \n",
    "            #Copy labels\n",
    "            label_file = os.path.splitext(filename.lower())[0]+'.txt'\n",
    "            src_label_path = os.path.join(label_path, label_file)\n",
    "            dst_label_path = os.path.join(output_base, split_name, \"labels\", label_file)\n",
    "\n",
    "            if os.path.exists(src_label_path):\n",
    "                shutil.copy2(src_label_path, dst_label_path)\n",
    "            else:\n",
    "                print(f\"label missing for: {filename}\")\n",
    "\n",
    "            found = True \n",
    "            break\n",
    "                \n",
    "    if not found:\n",
    "        print(f\"image not found: {filename}\")\n",
    "   \n",
    "print(\"Done!!!\")\n"
   ]
  },
  {
   "cell_type": "code",
   "execution_count": null,
   "id": "ca782792-4161-4733-89e3-829ba3e0df98",
   "metadata": {},
   "outputs": [],
   "source": [
    "\n"
   ]
  },
  {
   "cell_type": "code",
   "execution_count": null,
   "id": "cc002a5b-7eb9-4e0c-9e4b-ee2d7bc60e18",
   "metadata": {},
   "outputs": [],
   "source": []
  }
 ],
 "metadata": {
  "kernelspec": {
   "display_name": "Python 3 (ipykernel)",
   "language": "python",
   "name": "python3"
  },
  "language_info": {
   "codemirror_mode": {
    "name": "ipython",
    "version": 3
   },
   "file_extension": ".py",
   "mimetype": "text/x-python",
   "name": "python",
   "nbconvert_exporter": "python",
   "pygments_lexer": "ipython3",
   "version": "3.8.20"
  }
 },
 "nbformat": 4,
 "nbformat_minor": 5
}
